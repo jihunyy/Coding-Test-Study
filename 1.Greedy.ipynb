{
 "cells": [
  {
   "cell_type": "markdown",
   "metadata": {},
   "source": [
    "## 그리디\n",
    "\n",
    "1. 그리디: 현재 상황에서 당장 좋은 것만 고르는 방법\n",
    "> - 최소한의 아이디어를 떠올릴 수 있는 능력 요구\n",
    "> - 정당성 분석이 중요: '이 방법으로 최적의 해가 맞게 구해지는가?'\n",
    "> - 예시\n",
    ">> - 거스름 돈은, 큰 화폐 단위부터 거슬러 주면 됨\n",
    ">> - 정당성 분석: 큰 단위가 항상 작은 단위의 배수이므로 작은 단위의 동전들을 종합해 다른 해가 나올 수 없으므로 정당함"
   ]
  },
  {
   "cell_type": "code",
   "execution_count": null,
   "metadata": {},
   "outputs": [],
   "source": [
    "#예제1: 가장 적은 개수로 거슬러 주는 문제\n",
    "\n",
    "n = int(input())\n",
    "count = 0\n",
    "array = [500, 100, 50, 10]\n",
    "\n",
    "for i in array:\n",
    "  count += n//i\n",
    "  n %= i\n",
    "\n",
    "print(count)\n",
    "\n",
    "#시간 복잡도: 화폐의 종류가 K라고 하면, O(K)"
   ]
  },
  {
   "cell_type": "code",
   "execution_count": null,
   "metadata": {},
   "outputs": [],
   "source": [
    "#예제2: 1이 될 때까지, K로 나눠주거나 1을 빼주는 문제\n",
    "\n",
    "n, k = map(int, input().split())\n",
    "\n",
    "result = 0\n",
    "\n",
    "while n > k+1:\n",
    "  n = n%k\n",
    "  result += 1\n",
    "\n",
    "while n > 1:\n",
    "  n -= 1\n",
    "  result += 1\n",
    "\n",
    "print(result)"
   ]
  },
  {
   "cell_type": "code",
   "execution_count": null,
   "metadata": {},
   "outputs": [],
   "source": [
    "#예제3: 곱하기 혹은 더하기 중 선택해 젤 큰 수 만들기\n",
    "\n",
    "data = input()\n",
    "result = int(data[0])\n",
    "\n",
    "for i in range(1, len(data)):\n",
    "  num = int(data[i])\n",
    "  #두 수 중 하나라도 '0' 혹은 '1'인 경우, 곱하기보다는 더하기 수행\n",
    "  if num <=1 or result <=1:\n",
    "    result += num\n",
    "  else:\n",
    "    result *= num\n",
    "\n",
    "print(result)"
   ]
  },
  {
   "cell_type": "code",
   "execution_count": null,
   "metadata": {},
   "outputs": [],
   "source": [
    "#예제4: 공포도와 그룹 내 모험자수를 같게 만들며, 그룹 수를 최대화하기\n",
    "\n",
    "#핵심 아이디어: 오름차순 정렬하여, 그때마다 선택\n",
    "data = list(map(int, input().split()))\n",
    "data.sort()\n",
    "\n",
    "result = 0\n",
    "count = 0\n",
    "\n",
    "for i in data:\n",
    "  count += 1\n",
    "  if count == i:\n",
    "    result += 1\n",
    "    count = 0\n",
    "\n",
    "print(result)"
   ]
  }
 ],
 "metadata": {
  "language_info": {
   "name": "python"
  },
  "orig_nbformat": 4
 },
 "nbformat": 4,
 "nbformat_minor": 2
}
